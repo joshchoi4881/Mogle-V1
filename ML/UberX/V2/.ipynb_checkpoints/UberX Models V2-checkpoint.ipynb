{
 "cells": [
  {
   "cell_type": "markdown",
   "metadata": {},
   "source": [
    "<h1>Prepare Data</h1>"
   ]
  },
  {
   "cell_type": "code",
   "execution_count": 1,
   "metadata": {},
   "outputs": [
    {
     "data": {
      "text/html": [
       "<div>\n",
       "<style scoped>\n",
       "    .dataframe tbody tr th:only-of-type {\n",
       "        vertical-align: middle;\n",
       "    }\n",
       "\n",
       "    .dataframe tbody tr th {\n",
       "        vertical-align: top;\n",
       "    }\n",
       "\n",
       "    .dataframe thead th {\n",
       "        text-align: right;\n",
       "    }\n",
       "</style>\n",
       "<table border=\"1\" class=\"dataframe\">\n",
       "  <thead>\n",
       "    <tr style=\"text-align: right;\">\n",
       "      <th></th>\n",
       "      <th>Location</th>\n",
       "      <th>Datetime_SINE</th>\n",
       "      <th>Datetime_COSINE</th>\n",
       "      <th>DayOfWeek</th>\n",
       "      <th>NPEPH</th>\n",
       "    </tr>\n",
       "  </thead>\n",
       "  <tbody>\n",
       "    <tr>\n",
       "      <th>count</th>\n",
       "      <td>234.0</td>\n",
       "      <td>234.000000</td>\n",
       "      <td>234.000000</td>\n",
       "      <td>234.000000</td>\n",
       "      <td>234.000000</td>\n",
       "    </tr>\n",
       "    <tr>\n",
       "      <th>mean</th>\n",
       "      <td>1.0</td>\n",
       "      <td>-0.320956</td>\n",
       "      <td>0.237196</td>\n",
       "      <td>3.081197</td>\n",
       "      <td>18.567222</td>\n",
       "    </tr>\n",
       "    <tr>\n",
       "      <th>std</th>\n",
       "      <td>0.0</td>\n",
       "      <td>0.651828</td>\n",
       "      <td>0.647653</td>\n",
       "      <td>1.988656</td>\n",
       "      <td>5.579310</td>\n",
       "    </tr>\n",
       "    <tr>\n",
       "      <th>min</th>\n",
       "      <td>1.0</td>\n",
       "      <td>-0.999963</td>\n",
       "      <td>-0.999411</td>\n",
       "      <td>0.000000</td>\n",
       "      <td>3.270000</td>\n",
       "    </tr>\n",
       "    <tr>\n",
       "      <th>25%</th>\n",
       "      <td>1.0</td>\n",
       "      <td>-0.890617</td>\n",
       "      <td>-0.368723</td>\n",
       "      <td>1.000000</td>\n",
       "      <td>14.840000</td>\n",
       "    </tr>\n",
       "    <tr>\n",
       "      <th>50%</th>\n",
       "      <td>1.0</td>\n",
       "      <td>-0.579421</td>\n",
       "      <td>0.416109</td>\n",
       "      <td>3.000000</td>\n",
       "      <td>18.185000</td>\n",
       "    </tr>\n",
       "    <tr>\n",
       "      <th>75%</th>\n",
       "      <td>1.0</td>\n",
       "      <td>0.158093</td>\n",
       "      <td>0.832042</td>\n",
       "      <td>5.000000</td>\n",
       "      <td>21.620000</td>\n",
       "    </tr>\n",
       "    <tr>\n",
       "      <th>max</th>\n",
       "      <td>1.0</td>\n",
       "      <td>0.973264</td>\n",
       "      <td>1.000000</td>\n",
       "      <td>6.000000</td>\n",
       "      <td>37.940000</td>\n",
       "    </tr>\n",
       "  </tbody>\n",
       "</table>\n",
       "</div>"
      ],
      "text/plain": [
       "       Location  Datetime_SINE  Datetime_COSINE   DayOfWeek       NPEPH\n",
       "count     234.0     234.000000       234.000000  234.000000  234.000000\n",
       "mean        1.0      -0.320956         0.237196    3.081197   18.567222\n",
       "std         0.0       0.651828         0.647653    1.988656    5.579310\n",
       "min         1.0      -0.999963        -0.999411    0.000000    3.270000\n",
       "25%         1.0      -0.890617        -0.368723    1.000000   14.840000\n",
       "50%         1.0      -0.579421         0.416109    3.000000   18.185000\n",
       "75%         1.0       0.158093         0.832042    5.000000   21.620000\n",
       "max         1.0       0.973264         1.000000    6.000000   37.940000"
      ]
     },
     "execution_count": 1,
     "metadata": {},
     "output_type": "execute_result"
    }
   ],
   "source": [
    "import pandas as pd\n",
    "import numpy as np\n",
    "import datetime as dt\n",
    "from sklearn import preprocessing\n",
    "from sklearn.model_selection import cross_val_score\n",
    "\n",
    "SECONDS_IN_YEAR = (dt.datetime(2021, 1, 1) - dt.datetime(2020, 1, 1)).total_seconds()\n",
    "\n",
    "def get_population_density(location):\n",
    "    if location == \"Los Angeles;CA\":\n",
    "        return 1\n",
    "\n",
    "def get_SINE(date):\n",
    "    seconds = (date - dt.datetime(2020, 1, 1, 0)).total_seconds()\n",
    "    return np.sin(2 * np.pi * seconds / SECONDS_IN_YEAR)\n",
    "\n",
    "def get_COSINE(date):\n",
    "    seconds = (date - dt.datetime(2020, 1, 1, 0)).total_seconds()\n",
    "    return np.cos(2 * np.pi * seconds / SECONDS_IN_YEAR)\n",
    "\n",
    "def get_hour_difference(start_datetime, end_datetime):\n",
    "    return (end_datetime - start_datetime).total_seconds() / 3600\n",
    "\n",
    "# Import file\n",
    "import_file = \"UberX_Los_Angeles_CA_V2.csv\"\n",
    "columns = [\"Location\", \"Datetime\", \"NPEPH\"]\n",
    "df = pd.read_csv(import_file, names=columns)\n",
    "\n",
    "# Change to numerical data\n",
    "df[\"Location\"] = df[\"Location\"].map(get_population_density)\n",
    "df[\"Datetime\"] = pd.to_datetime(df[\"Datetime\"], format=\"%Y-%m-%d\", errors=\"coerce\")\n",
    "df[\"DayOfWeek\"] = df[\"Datetime\"].dt.dayofweek\n",
    "df[\"Datetime\"] = (df[\"Datetime\"] - dt.datetime(2020, 1, 1)).dt.total_seconds()\n",
    "df[\"Datetime_SINE\"] = np.sin(2 * np.pi * df[\"Datetime\"] / SECONDS_IN_YEAR)\n",
    "df[\"Datetime_COSINE\"] = np.cos(2 * np.pi * df[\"Datetime\"] / SECONDS_IN_YEAR)\n",
    "df = df[[\"Location\", \"Datetime_SINE\", \"Datetime_COSINE\", \"DayOfWeek\", \"NPEPH\"]]\n",
    "\n",
    "# Separate features and classes\n",
    "feature_names = [\"Location\", \"Datetime_SINE\", \"Datetime_COSINE\", \"DayOfWeek\"]\n",
    "all_features = df[feature_names].values\n",
    "all_classes_NPEPH = df[\"NPEPH\"].values\n",
    "\n",
    "# Normalize data\n",
    "scaler = preprocessing.StandardScaler()\n",
    "all_features_scaled = scaler.fit_transform(all_features)\n",
    "\n",
    "# Test inputs\n",
    "location = get_population_density(\"Los Angeles;CA\")\n",
    "datetime = dt.datetime(2020, 10, 5, 0, 0)\n",
    "datetime_SINE = get_SINE(datetime)\n",
    "datetime_COSINE = get_COSINE(datetime)\n",
    "dayOfWeek = datetime.weekday()\n",
    "\n",
    "df.describe()"
   ]
  },
  {
   "cell_type": "markdown",
   "metadata": {},
   "source": [
    "<h1>Stats</h1>"
   ]
  },
  {
   "cell_type": "code",
   "execution_count": 6,
   "metadata": {},
   "outputs": [
    {
     "name": "stdout",
     "output_type": "stream",
     "text": [
      "NPEPH Mean: 18.567222222222227\n",
      "NPEPH STD: 5.579310375664892\n",
      "NPEPH Variance: 31.128704268001915\n"
     ]
    }
   ],
   "source": [
    "NPEPH_mean = df[\"NPEPH\"].mean()\n",
    "print(\"NPEPH Mean:\", NPEPH_mean)\n",
    "\n",
    "NPEPH_std = df[\"NPEPH\"].std()\n",
    "print(\"NPEPH STD:\", NPEPH_std)\n",
    "\n",
    "NPEPH_variance = NPEPH_std * NPEPH_std\n",
    "print(\"NPEPH Variance:\", NPEPH_variance)"
   ]
  },
  {
   "cell_type": "markdown",
   "metadata": {},
   "source": [
    "<h1>RBF SVM</h1>"
   ]
  },
  {
   "cell_type": "code",
   "execution_count": 4,
   "metadata": {},
   "outputs": [
    {
     "name": "stdout",
     "output_type": "stream",
     "text": [
      "[[18.50124697366435, 0.08787348297586034, 'NPEPH']]\n",
      "NPEPH Calculation: 18.50124697366435\n",
      "NPEPH STD Calculation: 5.579310375664892\n"
     ]
    }
   ],
   "source": [
    "from sklearn import svm\n",
    "\n",
    "# Hyperparameters\n",
    "C = 1.0\n",
    "\n",
    "svr = svm.SVR(kernel=\"rbf\", C=C)\n",
    "\n",
    "# Return RBF SVM estimates and k-fold cross-validation scores\n",
    "def get_RBF_SVM(location, datetime_SINE, datetime_COSINE, dayOfWeek):\n",
    "    test_input = [[location, datetime_SINE, datetime_COSINE, dayOfWeek]]\n",
    "    # NPEPH\n",
    "    cv_scores = cross_val_score(svr, all_features_scaled, all_classes_NPEPH, cv=10)\n",
    "    NPEPH_k = cv_scores.mean()\n",
    "    svr.fit(all_features_scaled, all_classes_NPEPH)\n",
    "    NPEPH = svr.predict(test_input)[0]\n",
    "    NPEPH_array = [NPEPH, NPEPH_k, \"NPEPH\"]\n",
    "    return [NPEPH_array]\n",
    "\n",
    "estimates = get_RBF_SVM(location, datetime_SINE, datetime_COSINE, dayOfWeek)\n",
    "print(estimates)\n",
    "\n",
    "print(\"NPEPH Calculation:\", estimates[0][0])\n",
    "print(\"NPEPH STD Calculation:\", NPEPH_std)"
   ]
  },
  {
   "cell_type": "code",
   "execution_count": null,
   "metadata": {},
   "outputs": [],
   "source": []
  }
 ],
 "metadata": {
  "kernelspec": {
   "display_name": "Python 3",
   "language": "python",
   "name": "python3"
  },
  "language_info": {
   "codemirror_mode": {
    "name": "ipython",
    "version": 3
   },
   "file_extension": ".py",
   "mimetype": "text/x-python",
   "name": "python",
   "nbconvert_exporter": "python",
   "pygments_lexer": "ipython3",
   "version": "3.7.6"
  }
 },
 "nbformat": 4,
 "nbformat_minor": 4
}
