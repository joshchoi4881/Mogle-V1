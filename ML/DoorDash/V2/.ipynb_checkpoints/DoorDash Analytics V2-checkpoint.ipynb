{
 "cells": [
  {
   "cell_type": "markdown",
   "metadata": {},
   "source": [
    "<h1>Prepare Data</h1>"
   ]
  },
  {
   "cell_type": "code",
   "execution_count": 20,
   "metadata": {},
   "outputs": [
    {
     "data": {
      "text/html": [
       "<div>\n",
       "<style scoped>\n",
       "    .dataframe tbody tr th:only-of-type {\n",
       "        vertical-align: middle;\n",
       "    }\n",
       "\n",
       "    .dataframe tbody tr th {\n",
       "        vertical-align: top;\n",
       "    }\n",
       "\n",
       "    .dataframe thead th {\n",
       "        text-align: right;\n",
       "    }\n",
       "</style>\n",
       "<table border=\"1\" class=\"dataframe\">\n",
       "  <thead>\n",
       "    <tr style=\"text-align: right;\">\n",
       "      <th></th>\n",
       "      <th>Location</th>\n",
       "      <th>Start_Datetime_SINE</th>\n",
       "      <th>Start_Datetime_COSINE</th>\n",
       "      <th>End_Datetime_SINE</th>\n",
       "      <th>End_Datetime_COSINE</th>\n",
       "      <th>DayOfWeek</th>\n",
       "      <th>DPH</th>\n",
       "      <th>TEPH</th>\n",
       "    </tr>\n",
       "  </thead>\n",
       "  <tbody>\n",
       "    <tr>\n",
       "      <th>count</th>\n",
       "      <td>302.000000</td>\n",
       "      <td>302.000000</td>\n",
       "      <td>302.000000</td>\n",
       "      <td>302.000000</td>\n",
       "      <td>302.000000</td>\n",
       "      <td>302.000000</td>\n",
       "      <td>302.000000</td>\n",
       "      <td>302.000000</td>\n",
       "    </tr>\n",
       "    <tr>\n",
       "      <th>mean</th>\n",
       "      <td>1.884106</td>\n",
       "      <td>0.282596</td>\n",
       "      <td>-0.565230</td>\n",
       "      <td>0.282011</td>\n",
       "      <td>-0.566092</td>\n",
       "      <td>2.652318</td>\n",
       "      <td>2.080033</td>\n",
       "      <td>17.442781</td>\n",
       "    </tr>\n",
       "    <tr>\n",
       "      <th>std</th>\n",
       "      <td>1.058024</td>\n",
       "      <td>0.649193</td>\n",
       "      <td>0.425675</td>\n",
       "      <td>0.649327</td>\n",
       "      <td>0.424708</td>\n",
       "      <td>1.848492</td>\n",
       "      <td>0.605694</td>\n",
       "      <td>6.178973</td>\n",
       "    </tr>\n",
       "    <tr>\n",
       "      <th>min</th>\n",
       "      <td>1.000000</td>\n",
       "      <td>-0.996916</td>\n",
       "      <td>-0.999993</td>\n",
       "      <td>-0.996990</td>\n",
       "      <td>-0.999999</td>\n",
       "      <td>0.000000</td>\n",
       "      <td>0.250000</td>\n",
       "      <td>1.720000</td>\n",
       "    </tr>\n",
       "    <tr>\n",
       "      <th>25%</th>\n",
       "      <td>1.000000</td>\n",
       "      <td>-0.253114</td>\n",
       "      <td>-0.967003</td>\n",
       "      <td>-0.252075</td>\n",
       "      <td>-0.967002</td>\n",
       "      <td>1.000000</td>\n",
       "      <td>1.710000</td>\n",
       "      <td>13.622500</td>\n",
       "    </tr>\n",
       "    <tr>\n",
       "      <th>50%</th>\n",
       "      <td>1.000000</td>\n",
       "      <td>0.251312</td>\n",
       "      <td>-0.695383</td>\n",
       "      <td>0.248858</td>\n",
       "      <td>-0.693650</td>\n",
       "      <td>3.000000</td>\n",
       "      <td>2.085000</td>\n",
       "      <td>17.245000</td>\n",
       "    </tr>\n",
       "    <tr>\n",
       "      <th>75%</th>\n",
       "      <td>3.000000</td>\n",
       "      <td>0.936629</td>\n",
       "      <td>-0.238612</td>\n",
       "      <td>0.937530</td>\n",
       "      <td>-0.243954</td>\n",
       "      <td>4.000000</td>\n",
       "      <td>2.400000</td>\n",
       "      <td>21.232500</td>\n",
       "    </tr>\n",
       "    <tr>\n",
       "      <th>max</th>\n",
       "      <td>5.000000</td>\n",
       "      <td>1.000000</td>\n",
       "      <td>0.398202</td>\n",
       "      <td>0.999980</td>\n",
       "      <td>0.395138</td>\n",
       "      <td>6.000000</td>\n",
       "      <td>4.620000</td>\n",
       "      <td>40.790000</td>\n",
       "    </tr>\n",
       "  </tbody>\n",
       "</table>\n",
       "</div>"
      ],
      "text/plain": [
       "         Location  Start_Datetime_SINE  Start_Datetime_COSINE  \\\n",
       "count  302.000000           302.000000             302.000000   \n",
       "mean     1.884106             0.282596              -0.565230   \n",
       "std      1.058024             0.649193               0.425675   \n",
       "min      1.000000            -0.996916              -0.999993   \n",
       "25%      1.000000            -0.253114              -0.967003   \n",
       "50%      1.000000             0.251312              -0.695383   \n",
       "75%      3.000000             0.936629              -0.238612   \n",
       "max      5.000000             1.000000               0.398202   \n",
       "\n",
       "       End_Datetime_SINE  End_Datetime_COSINE   DayOfWeek         DPH  \\\n",
       "count         302.000000           302.000000  302.000000  302.000000   \n",
       "mean            0.282011            -0.566092    2.652318    2.080033   \n",
       "std             0.649327             0.424708    1.848492    0.605694   \n",
       "min            -0.996990            -0.999999    0.000000    0.250000   \n",
       "25%            -0.252075            -0.967002    1.000000    1.710000   \n",
       "50%             0.248858            -0.693650    3.000000    2.085000   \n",
       "75%             0.937530            -0.243954    4.000000    2.400000   \n",
       "max             0.999980             0.395138    6.000000    4.620000   \n",
       "\n",
       "             TEPH  \n",
       "count  302.000000  \n",
       "mean    17.442781  \n",
       "std      6.178973  \n",
       "min      1.720000  \n",
       "25%     13.622500  \n",
       "50%     17.245000  \n",
       "75%     21.232500  \n",
       "max     40.790000  "
      ]
     },
     "execution_count": 20,
     "metadata": {},
     "output_type": "execute_result"
    }
   ],
   "source": [
    "import pandas as pd\n",
    "import numpy as np\n",
    "import datetime as dt\n",
    "from sklearn import preprocessing\n",
    "from sklearn.model_selection import cross_val_score\n",
    "\n",
    "SECONDS_IN_YEAR = (dt.datetime(2021, 1, 1) - dt.datetime(2020, 1, 1)).total_seconds()\n",
    "\n",
    "def get_population_density(location):\n",
    "    if location == \"Kenosha;WI\":\n",
    "        return 1\n",
    "    elif location == \"Hackensack;NJ\":\n",
    "        return 2\n",
    "    elif location == \"St. Louis;MO\":\n",
    "        return 3\n",
    "    elif location == \"Ellicott City;MD\":\n",
    "        return 4\n",
    "    elif location == \"Baltimore;MD\":\n",
    "        return 5\n",
    "    elif location == \"Catonsville;MD\":\n",
    "        return 6\n",
    "    elif location == \"North Bethesda;MD\":\n",
    "        return 7\n",
    "    elif location == \"Los Angeles;CA\":\n",
    "        return 8\n",
    "\n",
    "def get_SINE(date):\n",
    "    seconds = (date - dt.datetime(2020, 1, 1, 0)).total_seconds()\n",
    "    return np.sin(2 * np.pi * seconds / SECONDS_IN_YEAR)\n",
    "\n",
    "def get_COSINE(date):\n",
    "    seconds = (date - dt.datetime(2020, 1, 1, 0)).total_seconds()\n",
    "    return np.cos(2 * np.pi * seconds / SECONDS_IN_YEAR)\n",
    "\n",
    "def get_hour_difference(start_datetime, end_datetime):\n",
    "    return (end_datetime - start_datetime).total_seconds() / 3600\n",
    "\n",
    "# Import file\n",
    "#import_file = \"DoorDash_Kenosha_WI_V2.csv\"\n",
    "#import_file = \"DoorDash_Hackensack_NJ_V2.csv\"\n",
    "#import_file = \"DoorDash_St._Louis_MO_V2.csv\"\n",
    "#import_file = \"DoorDash_MD_V2.csv\"\n",
    "#import_file = \"DoorDash_Los_Angeles_CA_V2.csv\"\n",
    "import_file = \"DoorDash_Combined_V2.csv\"\n",
    "#columns = [\"Location\", \"Start_Datetime\", \"End_Datetime\", \"DPH\", \"TEPH\"]\n",
    "columns = [\"Start_Datetime\", \"Deliveries\", \"Location\", \"Total_Earnings\", \"DPH\", \"ID\", \"End_Datetime\", \"TEPH\"]\n",
    "df = pd.read_csv(import_file, names=columns)\n",
    "\n",
    "# Change to numerical data\n",
    "df[\"Location\"] = df[\"Location\"].map(get_population_density)\n",
    "df[\"Start_Datetime\"] = pd.to_datetime(df[\"Start_Datetime\"], format=\"%Y-%m-%dT%H:%MZ\", errors=\"coerce\")\n",
    "df[\"DayOfWeek\"] = df[\"Start_Datetime\"].dt.dayofweek\n",
    "df[\"Start_Datetime\"] = (df[\"Start_Datetime\"] - dt.datetime(2020, 1, 1)).dt.total_seconds()\n",
    "df[\"Start_Datetime_SINE\"] = np.sin(2 * np.pi * df[\"Start_Datetime\"] / SECONDS_IN_YEAR)\n",
    "df[\"Start_Datetime_COSINE\"] = np.cos(2 * np.pi * df[\"Start_Datetime\"] / SECONDS_IN_YEAR)\n",
    "df[\"End_Datetime\"] = pd.to_datetime(df[\"End_Datetime\"], format=\"%Y-%m-%dT%H:%MZ\", errors=\"coerce\")\n",
    "df[\"End_Datetime\"] = (df[\"End_Datetime\"] - dt.datetime(2020, 1, 1)).dt.total_seconds()\n",
    "df[\"End_Datetime_SINE\"] = np.sin(2 * np.pi * df[\"End_Datetime\"] / SECONDS_IN_YEAR)\n",
    "df[\"End_Datetime_COSINE\"] = np.cos(2 * np.pi * df[\"End_Datetime\"] / SECONDS_IN_YEAR)\n",
    "df = df[[\"Location\", \"Start_Datetime_SINE\", \"Start_Datetime_COSINE\", \"End_Datetime_SINE\", \"End_Datetime_COSINE\", \"DayOfWeek\", \"DPH\", \"TEPH\"]]\n",
    "\n",
    "# Separate features and classes\n",
    "feature_names = [\"Location\", \"Start_Datetime_SINE\", \"Start_Datetime_COSINE\", \"End_Datetime_SINE\", \"End_Datetime_COSINE\", \"DayOfWeek\"]\n",
    "all_features = df[feature_names].values\n",
    "all_classes_TEPH = df[\"TEPH\"].values\n",
    "\n",
    "# Normalize data\n",
    "scaler = preprocessing.StandardScaler()\n",
    "all_features_scaled = scaler.fit_transform(all_features)\n",
    "\n",
    "# Test inputs\n",
    "location = get_population_density(\"Kenosha;WI\")\n",
    "start_datetime = dt.datetime(2020, 10, 5, 12, 0)\n",
    "end_datetime = dt.datetime(2020, 10, 5, 13, 0)\n",
    "start_datetime_SINE = get_SINE(start_datetime)\n",
    "start_datetime_COSINE = get_COSINE(start_datetime)\n",
    "end_datetime_SINE = get_SINE(end_datetime)\n",
    "end_datetime_COSINE = get_COSINE(end_datetime)\n",
    "dayOfWeek = start_datetime.weekday()\n",
    "hour_difference = get_hour_difference(start_datetime, end_datetime)\n",
    "\n",
    "df.describe()"
   ]
  },
  {
   "cell_type": "code",
   "execution_count": 21,
   "metadata": {},
   "outputs": [
    {
     "name": "stdout",
     "output_type": "stream",
     "text": [
      "TEPH Mean: 17.44278145695364\n",
      "TEPH STD: 6.178973095657914\n",
      "TEPH Variance: 38.17970851686434\n"
     ]
    }
   ],
   "source": [
    "TEPH_mean = df[\"TEPH\"].mean()\n",
    "print(\"TEPH Mean:\", TEPH_mean)\n",
    "\n",
    "TEPH_std = df[\"TEPH\"].std()\n",
    "print(\"TEPH STD:\", TEPH_std)\n",
    "\n",
    "TEPH_variance = TEPH_std * TEPH_std\n",
    "print(\"TEPH Variance:\", TEPH_variance)"
   ]
  },
  {
   "cell_type": "markdown",
   "metadata": {},
   "source": [
    "<h1>Stats</h1>"
   ]
  },
  {
   "cell_type": "markdown",
   "metadata": {},
   "source": [
    "<h1>Per One Hour</h1>"
   ]
  },
  {
   "cell_type": "code",
   "execution_count": 22,
   "metadata": {},
   "outputs": [
    {
     "name": "stdout",
     "output_type": "stream",
     "text": [
      "Expected Value: 2.419197238638219\n"
     ]
    }
   ],
   "source": [
    "from scipy.stats import norm\n",
    "\n",
    "base = norm(loc=TEPH_mean, scale=TEPH_std)\n",
    "EV = base.expect(lambda x: abs(x - TEPH_mean), lb=0, ub=TEPH_mean)\n",
    "print(\"Expected Value:\", EV)"
   ]
  },
  {
   "cell_type": "code",
   "execution_count": 23,
   "metadata": {},
   "outputs": [
    {
     "data": {
      "image/png": "[encoded data removed]",
      "text/plain": [
       "<Figure size 432x288 with 1 Axes>"
      ]
     },
     "metadata": {
      "needs_background": "light"
     },
     "output_type": "display_data"
    }
   ],
   "source": [
    "import matplotlib.pyplot as plt\n",
    "\n",
    "fig, ax = plt.subplots(1, sharex=True)\n",
    "ax.hist(base.rvs(10000), density=True, histtype='stepfilled', alpha=0.2)\n",
    "plt.show()"
   ]
  },
  {
   "cell_type": "markdown",
   "metadata": {},
   "source": [
    "<h1>Test Input</h1>"
   ]
  },
  {
   "cell_type": "code",
   "execution_count": 24,
   "metadata": {},
   "outputs": [
    {
     "name": "stdout",
     "output_type": "stream",
     "text": [
      "TEPH Test Mean: 17.44278145695364\n",
      "TEPH Test STD: 6.178973095657914\n",
      "TEPH Test Expected Value: 2.419197238638219\n"
     ]
    }
   ],
   "source": [
    "import math\n",
    "\n",
    "TEPH_test_mean = TEPH_mean * hour_difference\n",
    "print(\"TEPH Test Mean:\", TEPH_test_mean)\n",
    "TEPH_test_std = math.sqrt(TEPH_variance * hour_difference)\n",
    "print(\"TEPH Test STD:\", TEPH_test_std)\n",
    "\n",
    "base = norm(loc=TEPH_test_mean, scale=TEPH_test_std)\n",
    "EV = base.expect(lambda x: abs(x - TEPH_test_mean), lb=0, ub=TEPH_test_mean)\n",
    "print(\"TEPH Test Expected Value:\", EV)"
   ]
  },
  {
   "cell_type": "code",
   "execution_count": 25,
   "metadata": {},
   "outputs": [
    {
     "data": {
      "image/png": "[encoded data removed]",
      "text/plain": [
       "<Figure size 432x288 with 1 Axes>"
      ]
     },
     "metadata": {
      "needs_background": "light"
     },
     "output_type": "display_data"
    }
   ],
   "source": [
    "import matplotlib.pyplot as plt\n",
    "\n",
    "fig, ax = plt.subplots(1, sharex=True)\n",
    "ax.hist(base.rvs(10000), density=True, histtype='stepfilled', alpha=0.2)\n",
    "plt.show()"
   ]
  },
  {
   "cell_type": "code",
   "execution_count": null,
   "metadata": {},
   "outputs": [],
   "source": []
  }
 ],
 "metadata": {
  "kernelspec": {
   "display_name": "Python 3",
   "language": "python",
   "name": "python3"
  },
  "language_info": {
   "codemirror_mode": {
    "name": "ipython",
    "version": 3
   },
   "file_extension": ".py",
   "mimetype": "text/x-python",
   "name": "python",
   "nbconvert_exporter": "python",
   "pygments_lexer": "ipython3",
   "version": "3.7.6"
  }
 },
 "nbformat": 4,
 "nbformat_minor": 4
}
