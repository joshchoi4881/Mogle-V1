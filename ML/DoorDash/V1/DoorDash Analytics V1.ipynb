{
 "cells": [
  {
   "cell_type": "markdown",
   "metadata": {},
   "source": [
    "<h1>Prepare Data</h1>"
   ]
  },
  {
   "cell_type": "code",
   "execution_count": 1,
   "metadata": {},
   "outputs": [],
   "source": [
    "import pandas as pd\n",
    "import numpy as np\n",
    "import datetime as dt\n",
    "from sklearn import preprocessing\n",
    "from sklearn.model_selection import cross_val_score\n",
    "\n",
    "SECONDS_IN_YEAR = (dt.datetime(2021, 1, 1) - dt.datetime(2020, 1, 1)).total_seconds()\n",
    "\n",
    "def get_population_density(location):\n",
    "    if location == \"Kenosha;WI\":\n",
    "        return 1\n",
    "    elif location == \"Hackensack;NJ\":\n",
    "        return 2\n",
    "\n",
    "def get_SINE(date):\n",
    "    seconds = (date - dt.datetime(2020, 1, 1, 0)).total_seconds()\n",
    "    return np.sin(2 * np.pi * seconds / SECONDS_IN_YEAR)\n",
    "\n",
    "def get_COSINE(date):\n",
    "    seconds = (date - dt.datetime(2020, 1, 1, 0)).total_seconds()\n",
    "    return np.cos(2 * np.pi * seconds / SECONDS_IN_YEAR)\n",
    "\n",
    "def get_hour_difference(start_datetime, end_datetime):\n",
    "    return (end_datetime - start_datetime).total_seconds() / 3600\n",
    "\n",
    "# Import file 1\n",
    "import_file = \"DoorDash_Kenosha_WI_V1.csv\"\n",
    "columns = [\"Location\", \"Start_Datetime\", \"End_Datetime\", \"Base\", \"Peak\", \"Tip\", \"Total\"]\n",
    "df1 = pd.read_csv(import_file, names=columns)\n",
    "\n",
    "# Import file 2\n",
    "import_file = \"DoorDash_Kenosha_WI_V2.csv\"\n",
    "columns = [\"Location\", \"Start_Datetime\", \"End_Datetime\", \"DPH\", \"TEPH\"]\n",
    "df2 = pd.read_csv(import_file, names=columns)\n",
    "\n",
    "# Change to numerical data for df1\n",
    "df1[\"Location\"] = df1[\"Location\"].map(get_population_density)\n",
    "df1[\"Start_Datetime\"] = pd.to_datetime(df1[\"Start_Datetime\"], format=\"%Y-%m-%dT%H:%MZ\", errors=\"coerce\")\n",
    "df1[\"DayOfWeek\"] = df1[\"Start_Datetime\"].dt.dayofweek\n",
    "df1[\"Start_Datetime\"] = (df1[\"Start_Datetime\"] - dt.datetime(2020, 1, 1)).dt.total_seconds()\n",
    "df1[\"Start_Datetime_SINE\"] = np.sin(2 * np.pi * df1[\"Start_Datetime\"] / SECONDS_IN_YEAR)\n",
    "df1[\"Start_Datetime_COSINE\"] = np.cos(2 * np.pi * df1[\"Start_Datetime\"] / SECONDS_IN_YEAR)\n",
    "df1[\"End_Datetime\"] = pd.to_datetime(df1[\"End_Datetime\"], format=\"%Y-%m-%dT%H:%MZ\", errors=\"coerce\")\n",
    "df1[\"End_Datetime\"] = (df1[\"End_Datetime\"] - dt.datetime(2020, 1, 1)).dt.total_seconds()\n",
    "df1[\"End_Datetime_SINE\"] = np.sin(2 * np.pi * df1[\"End_Datetime\"] / SECONDS_IN_YEAR)\n",
    "df1[\"End_Datetime_COSINE\"] = np.cos(2 * np.pi * df1[\"End_Datetime\"] / SECONDS_IN_YEAR)\n",
    "df1 = df1[[\"Location\", \"Start_Datetime_SINE\", \"Start_Datetime_COSINE\", \"End_Datetime_SINE\", \"End_Datetime_COSINE\", \"DayOfWeek\", \"Base\", \"Peak\", \"Tip\", \"Total\"]]\n",
    "\n",
    "# Change to numerical data for df2\n",
    "df2[\"Location\"] = df2[\"Location\"].map(get_population_density)\n",
    "df2[\"Start_Datetime\"] = pd.to_datetime(df2[\"Start_Datetime\"], format=\"%Y-%m-%dT%H:%MZ\", errors=\"coerce\")\n",
    "df2[\"DayOfWeek\"] = df2[\"Start_Datetime\"].dt.dayofweek\n",
    "df2[\"Start_Datetime\"] = (df2[\"Start_Datetime\"] - dt.datetime(2020, 1, 1)).dt.total_seconds()\n",
    "df2[\"Start_Datetime_SINE\"] = np.sin(2 * np.pi * df2[\"Start_Datetime\"] / SECONDS_IN_YEAR)\n",
    "df2[\"Start_Datetime_COSINE\"] = np.cos(2 * np.pi * df2[\"Start_Datetime\"] / SECONDS_IN_YEAR)\n",
    "df2[\"End_Datetime\"] = pd.to_datetime(df2[\"End_Datetime\"], format=\"%Y-%m-%dT%H:%MZ\", errors=\"coerce\")\n",
    "df2[\"End_Datetime\"] = (df2[\"End_Datetime\"] - dt.datetime(2020, 1, 1)).dt.total_seconds()\n",
    "df2[\"End_Datetime_SINE\"] = np.sin(2 * np.pi * df2[\"End_Datetime\"] / SECONDS_IN_YEAR)\n",
    "df2[\"End_Datetime_COSINE\"] = np.cos(2 * np.pi * df2[\"End_Datetime\"] / SECONDS_IN_YEAR)\n",
    "df2 = df2[[\"Location\", \"Start_Datetime_SINE\", \"Start_Datetime_COSINE\", \"End_Datetime_SINE\", \"End_Datetime_COSINE\", \"DayOfWeek\", \"DPH\", \"TEPH\"]]\n",
    "\n",
    "# Separate features and classes for df1\n",
    "feature_names = [\"Location\", \"Start_Datetime_SINE\", \"Start_Datetime_COSINE\", \"End_Datetime_SINE\", \"End_Datetime_COSINE\", \"DayOfWeek\"]\n",
    "all_features_df1 = df1[feature_names].values\n",
    "all_classes_base = df1[\"Base\"].values\n",
    "all_classes_peak = df1[\"Peak\"].values\n",
    "all_classes_tip = df1[\"Tip\"].values\n",
    "all_classes_total = df1[\"Total\"].values\n",
    "\n",
    "# Separate features and classes for df2\n",
    "feature_names = [\"Location\", \"Start_Datetime_SINE\", \"Start_Datetime_COSINE\", \"End_Datetime_SINE\", \"End_Datetime_COSINE\", \"DayOfWeek\"]\n",
    "all_features_df2 = df2[feature_names].values\n",
    "all_classes_DPH = df2[\"DPH\"].values\n",
    "all_classes_TEPH = df2[\"TEPH\"].values\n",
    "\n",
    "# Normalize data\n",
    "scaler = preprocessing.StandardScaler()\n",
    "all_features_df1_scaled = scaler.fit_transform(all_features_df1)\n",
    "all_features_df2_scaled = scaler.fit_transform(all_features_df2)\n",
    "\n",
    "# Test inputs\n",
    "location = get_population_density(\"Kenosha;WI\")\n",
    "start_datetime = dt.datetime(2020, 10, 5, 6, 0)\n",
    "end_datetime = dt.datetime(2020, 10, 5, 7, 0)\n",
    "start_datetime_SINE = get_SINE(start_datetime)\n",
    "start_datetime_COSINE = get_COSINE(start_datetime)\n",
    "end_datetime_SINE = get_SINE(end_datetime)\n",
    "end_datetime_COSINE = get_COSINE(end_datetime)\n",
    "dayOfWeek = start_datetime.weekday()\n",
    "hour_difference = get_hour_difference(start_datetime, end_datetime)"
   ]
  },
  {
   "cell_type": "code",
   "execution_count": 2,
   "metadata": {},
   "outputs": [
    {
     "data": {
      "text/html": [
       "<div>\n",
       "<style scoped>\n",
       "    .dataframe tbody tr th:only-of-type {\n",
       "        vertical-align: middle;\n",
       "    }\n",
       "\n",
       "    .dataframe tbody tr th {\n",
       "        vertical-align: top;\n",
       "    }\n",
       "\n",
       "    .dataframe thead th {\n",
       "        text-align: right;\n",
       "    }\n",
       "</style>\n",
       "<table border=\"1\" class=\"dataframe\">\n",
       "  <thead>\n",
       "    <tr style=\"text-align: right;\">\n",
       "      <th></th>\n",
       "      <th>Location</th>\n",
       "      <th>Start_Datetime_SINE</th>\n",
       "      <th>Start_Datetime_COSINE</th>\n",
       "      <th>End_Datetime_SINE</th>\n",
       "      <th>End_Datetime_COSINE</th>\n",
       "      <th>DayOfWeek</th>\n",
       "      <th>Base</th>\n",
       "      <th>Peak</th>\n",
       "      <th>Tip</th>\n",
       "      <th>Total</th>\n",
       "    </tr>\n",
       "  </thead>\n",
       "  <tbody>\n",
       "    <tr>\n",
       "      <th>count</th>\n",
       "      <td>1247.0</td>\n",
       "      <td>1247.000000</td>\n",
       "      <td>1247.000000</td>\n",
       "      <td>1247.000000</td>\n",
       "      <td>1247.000000</td>\n",
       "      <td>1247.000000</td>\n",
       "      <td>1247.000000</td>\n",
       "      <td>1247.000000</td>\n",
       "      <td>1247.000000</td>\n",
       "      <td>1247.000000</td>\n",
       "    </tr>\n",
       "    <tr>\n",
       "      <th>mean</th>\n",
       "      <td>1.0</td>\n",
       "      <td>0.595500</td>\n",
       "      <td>-0.371143</td>\n",
       "      <td>0.594476</td>\n",
       "      <td>-0.373265</td>\n",
       "      <td>2.757017</td>\n",
       "      <td>2.935044</td>\n",
       "      <td>0.632719</td>\n",
       "      <td>5.254980</td>\n",
       "      <td>8.824346</td>\n",
       "    </tr>\n",
       "    <tr>\n",
       "      <th>std</th>\n",
       "      <td>0.0</td>\n",
       "      <td>0.567789</td>\n",
       "      <td>0.430878</td>\n",
       "      <td>0.568531</td>\n",
       "      <td>0.429478</td>\n",
       "      <td>1.912906</td>\n",
       "      <td>0.645153</td>\n",
       "      <td>1.126004</td>\n",
       "      <td>2.364477</td>\n",
       "      <td>2.643884</td>\n",
       "    </tr>\n",
       "    <tr>\n",
       "      <th>min</th>\n",
       "      <td>1.0</td>\n",
       "      <td>-0.863331</td>\n",
       "      <td>-0.999999</td>\n",
       "      <td>-0.864633</td>\n",
       "      <td>-0.999999</td>\n",
       "      <td>0.000000</td>\n",
       "      <td>2.000000</td>\n",
       "      <td>0.000000</td>\n",
       "      <td>0.000000</td>\n",
       "      <td>2.000000</td>\n",
       "    </tr>\n",
       "    <tr>\n",
       "      <th>25%</th>\n",
       "      <td>1.0</td>\n",
       "      <td>0.225114</td>\n",
       "      <td>-0.711678</td>\n",
       "      <td>0.223824</td>\n",
       "      <td>-0.714353</td>\n",
       "      <td>1.000000</td>\n",
       "      <td>3.000000</td>\n",
       "      <td>0.000000</td>\n",
       "      <td>4.000000</td>\n",
       "      <td>7.000000</td>\n",
       "    </tr>\n",
       "    <tr>\n",
       "      <th>50%</th>\n",
       "      <td>1.0</td>\n",
       "      <td>0.902169</td>\n",
       "      <td>-0.431382</td>\n",
       "      <td>0.900750</td>\n",
       "      <td>-0.434338</td>\n",
       "      <td>3.000000</td>\n",
       "      <td>3.000000</td>\n",
       "      <td>0.000000</td>\n",
       "      <td>5.000000</td>\n",
       "      <td>8.000000</td>\n",
       "    </tr>\n",
       "    <tr>\n",
       "      <th>75%</th>\n",
       "      <td>1.0</td>\n",
       "      <td>0.979002</td>\n",
       "      <td>0.017846</td>\n",
       "      <td>0.978252</td>\n",
       "      <td>0.014735</td>\n",
       "      <td>4.000000</td>\n",
       "      <td>3.000000</td>\n",
       "      <td>1.000000</td>\n",
       "      <td>6.000000</td>\n",
       "      <td>10.000000</td>\n",
       "    </tr>\n",
       "    <tr>\n",
       "      <th>max</th>\n",
       "      <td>1.0</td>\n",
       "      <td>1.000000</td>\n",
       "      <td>0.398202</td>\n",
       "      <td>0.999980</td>\n",
       "      <td>0.395138</td>\n",
       "      <td>6.000000</td>\n",
       "      <td>7.500000</td>\n",
       "      <td>6.000000</td>\n",
       "      <td>19.420000</td>\n",
       "      <td>23.920000</td>\n",
       "    </tr>\n",
       "  </tbody>\n",
       "</table>\n",
       "</div>"
      ],
      "text/plain": [
       "       Location  Start_Datetime_SINE  Start_Datetime_COSINE  \\\n",
       "count    1247.0          1247.000000            1247.000000   \n",
       "mean        1.0             0.595500              -0.371143   \n",
       "std         0.0             0.567789               0.430878   \n",
       "min         1.0            -0.863331              -0.999999   \n",
       "25%         1.0             0.225114              -0.711678   \n",
       "50%         1.0             0.902169              -0.431382   \n",
       "75%         1.0             0.979002               0.017846   \n",
       "max         1.0             1.000000               0.398202   \n",
       "\n",
       "       End_Datetime_SINE  End_Datetime_COSINE    DayOfWeek         Base  \\\n",
       "count        1247.000000          1247.000000  1247.000000  1247.000000   \n",
       "mean            0.594476            -0.373265     2.757017     2.935044   \n",
       "std             0.568531             0.429478     1.912906     0.645153   \n",
       "min            -0.864633            -0.999999     0.000000     2.000000   \n",
       "25%             0.223824            -0.714353     1.000000     3.000000   \n",
       "50%             0.900750            -0.434338     3.000000     3.000000   \n",
       "75%             0.978252             0.014735     4.000000     3.000000   \n",
       "max             0.999980             0.395138     6.000000     7.500000   \n",
       "\n",
       "              Peak          Tip        Total  \n",
       "count  1247.000000  1247.000000  1247.000000  \n",
       "mean      0.632719     5.254980     8.824346  \n",
       "std       1.126004     2.364477     2.643884  \n",
       "min       0.000000     0.000000     2.000000  \n",
       "25%       0.000000     4.000000     7.000000  \n",
       "50%       0.000000     5.000000     8.000000  \n",
       "75%       1.000000     6.000000    10.000000  \n",
       "max       6.000000    19.420000    23.920000  "
      ]
     },
     "execution_count": 2,
     "metadata": {},
     "output_type": "execute_result"
    }
   ],
   "source": [
    "df1.describe()"
   ]
  },
  {
   "cell_type": "code",
   "execution_count": 3,
   "metadata": {},
   "outputs": [
    {
     "data": {
      "text/html": [
       "<div>\n",
       "<style scoped>\n",
       "    .dataframe tbody tr th:only-of-type {\n",
       "        vertical-align: middle;\n",
       "    }\n",
       "\n",
       "    .dataframe tbody tr th {\n",
       "        vertical-align: top;\n",
       "    }\n",
       "\n",
       "    .dataframe thead th {\n",
       "        text-align: right;\n",
       "    }\n",
       "</style>\n",
       "<table border=\"1\" class=\"dataframe\">\n",
       "  <thead>\n",
       "    <tr style=\"text-align: right;\">\n",
       "      <th></th>\n",
       "      <th>Location</th>\n",
       "      <th>Start_Datetime_SINE</th>\n",
       "      <th>Start_Datetime_COSINE</th>\n",
       "      <th>End_Datetime_SINE</th>\n",
       "      <th>End_Datetime_COSINE</th>\n",
       "      <th>DayOfWeek</th>\n",
       "      <th>DPH</th>\n",
       "      <th>TEPH</th>\n",
       "    </tr>\n",
       "  </thead>\n",
       "  <tbody>\n",
       "    <tr>\n",
       "      <th>count</th>\n",
       "      <td>158.0</td>\n",
       "      <td>158.000000</td>\n",
       "      <td>158.000000</td>\n",
       "      <td>158.000000</td>\n",
       "      <td>158.000000</td>\n",
       "      <td>158.000000</td>\n",
       "      <td>158.000000</td>\n",
       "      <td>158.000000</td>\n",
       "    </tr>\n",
       "    <tr>\n",
       "      <th>mean</th>\n",
       "      <td>1.0</td>\n",
       "      <td>0.517903</td>\n",
       "      <td>-0.419314</td>\n",
       "      <td>0.516944</td>\n",
       "      <td>-0.420813</td>\n",
       "      <td>2.569620</td>\n",
       "      <td>2.142722</td>\n",
       "      <td>18.825823</td>\n",
       "    </tr>\n",
       "    <tr>\n",
       "      <th>std</th>\n",
       "      <td>0.0</td>\n",
       "      <td>0.606759</td>\n",
       "      <td>0.437420</td>\n",
       "      <td>0.607448</td>\n",
       "      <td>0.436156</td>\n",
       "      <td>1.879718</td>\n",
       "      <td>0.519547</td>\n",
       "      <td>4.876560</td>\n",
       "    </tr>\n",
       "    <tr>\n",
       "      <th>min</th>\n",
       "      <td>1.0</td>\n",
       "      <td>-0.863331</td>\n",
       "      <td>-0.999999</td>\n",
       "      <td>-0.864633</td>\n",
       "      <td>-0.999999</td>\n",
       "      <td>0.000000</td>\n",
       "      <td>0.250000</td>\n",
       "      <td>1.720000</td>\n",
       "    </tr>\n",
       "    <tr>\n",
       "      <th>25%</th>\n",
       "      <td>1.0</td>\n",
       "      <td>0.005478</td>\n",
       "      <td>-0.747335</td>\n",
       "      <td>0.002140</td>\n",
       "      <td>-0.748760</td>\n",
       "      <td>1.000000</td>\n",
       "      <td>1.880000</td>\n",
       "      <td>16.235000</td>\n",
       "    </tr>\n",
       "    <tr>\n",
       "      <th>50%</th>\n",
       "      <td>1.0</td>\n",
       "      <td>0.855939</td>\n",
       "      <td>-0.506966</td>\n",
       "      <td>0.854199</td>\n",
       "      <td>-0.507836</td>\n",
       "      <td>2.000000</td>\n",
       "      <td>2.130000</td>\n",
       "      <td>18.545000</td>\n",
       "    </tr>\n",
       "    <tr>\n",
       "      <th>75%</th>\n",
       "      <td>1.0</td>\n",
       "      <td>0.967761</td>\n",
       "      <td>0.010106</td>\n",
       "      <td>0.968308</td>\n",
       "      <td>0.006777</td>\n",
       "      <td>4.000000</td>\n",
       "      <td>2.407500</td>\n",
       "      <td>22.197500</td>\n",
       "    </tr>\n",
       "    <tr>\n",
       "      <th>max</th>\n",
       "      <td>1.0</td>\n",
       "      <td>1.000000</td>\n",
       "      <td>0.398202</td>\n",
       "      <td>0.999980</td>\n",
       "      <td>0.395138</td>\n",
       "      <td>6.000000</td>\n",
       "      <td>4.030000</td>\n",
       "      <td>34.030000</td>\n",
       "    </tr>\n",
       "  </tbody>\n",
       "</table>\n",
       "</div>"
      ],
      "text/plain": [
       "       Location  Start_Datetime_SINE  Start_Datetime_COSINE  \\\n",
       "count     158.0           158.000000             158.000000   \n",
       "mean        1.0             0.517903              -0.419314   \n",
       "std         0.0             0.606759               0.437420   \n",
       "min         1.0            -0.863331              -0.999999   \n",
       "25%         1.0             0.005478              -0.747335   \n",
       "50%         1.0             0.855939              -0.506966   \n",
       "75%         1.0             0.967761               0.010106   \n",
       "max         1.0             1.000000               0.398202   \n",
       "\n",
       "       End_Datetime_SINE  End_Datetime_COSINE   DayOfWeek         DPH  \\\n",
       "count         158.000000           158.000000  158.000000  158.000000   \n",
       "mean            0.516944            -0.420813    2.569620    2.142722   \n",
       "std             0.607448             0.436156    1.879718    0.519547   \n",
       "min            -0.864633            -0.999999    0.000000    0.250000   \n",
       "25%             0.002140            -0.748760    1.000000    1.880000   \n",
       "50%             0.854199            -0.507836    2.000000    2.130000   \n",
       "75%             0.968308             0.006777    4.000000    2.407500   \n",
       "max             0.999980             0.395138    6.000000    4.030000   \n",
       "\n",
       "             TEPH  \n",
       "count  158.000000  \n",
       "mean    18.825823  \n",
       "std      4.876560  \n",
       "min      1.720000  \n",
       "25%     16.235000  \n",
       "50%     18.545000  \n",
       "75%     22.197500  \n",
       "max     34.030000  "
      ]
     },
     "execution_count": 3,
     "metadata": {},
     "output_type": "execute_result"
    }
   ],
   "source": [
    "df2.describe()"
   ]
  },
  {
   "cell_type": "markdown",
   "metadata": {},
   "source": [
    "<h1>Stats</h1>"
   ]
  },
  {
   "cell_type": "code",
   "execution_count": 4,
   "metadata": {},
   "outputs": [
    {
     "name": "stdout",
     "output_type": "stream",
     "text": [
      "Total Mean: 8.824346431435444\n",
      "Total STD: 2.643884132949173\n",
      "Total Variance: 6.9901233084604\n",
      "DPH Mean: 2.1427215189873414\n",
      "TEPH Mean: 18.825822784810125\n",
      "TEPH STD: 4.8765598471583465\n",
      "TEPH Variance: 23.780835942917037\n"
     ]
    }
   ],
   "source": [
    "total_mean = df1[\"Total\"].mean()\n",
    "print(\"Total Mean:\", total_mean)\n",
    "\n",
    "total_std = df1[\"Total\"].std()\n",
    "print(\"Total STD:\", total_std)\n",
    "\n",
    "total_variance = total_std * total_std\n",
    "print(\"Total Variance:\", total_variance)\n",
    "\n",
    "DPH_mean = df2[\"DPH\"].mean()\n",
    "print(\"DPH Mean:\", DPH_mean)\n",
    "\n",
    "TEPH_mean = df2[\"TEPH\"].mean()\n",
    "print(\"TEPH Mean:\", TEPH_mean)\n",
    "\n",
    "TEPH_std = df2[\"TEPH\"].std()\n",
    "print(\"TEPH STD:\", TEPH_std)\n",
    "\n",
    "TEPH_variance = TEPH_std * TEPH_std\n",
    "print(\"TEPH Variance:\", TEPH_variance)"
   ]
  },
  {
   "cell_type": "markdown",
   "metadata": {},
   "source": [
    "<h1>Per One Delivery</h1>"
   ]
  },
  {
   "cell_type": "code",
   "execution_count": 5,
   "metadata": {},
   "outputs": [
    {
     "name": "stdout",
     "output_type": "stream",
     "text": [
      "Expected Value: 1.0507377795131874\n"
     ]
    }
   ],
   "source": [
    "from scipy.stats import norm\n",
    "\n",
    "base = norm(loc=total_mean, scale=total_std)\n",
    "EV = base.expect(lambda x: abs(x - total_mean), lb=0, ub=total_mean)\n",
    "print(\"Expected Value:\", EV)"
   ]
  },
  {
   "cell_type": "code",
   "execution_count": 6,
   "metadata": {},
   "outputs": [
    {
     "data": {
      "image/png": "[encoded data removed]",
      "text/plain": [
       "<Figure size 432x288 with 1 Axes>"
      ]
     },
     "metadata": {
      "needs_background": "light"
     },
     "output_type": "display_data"
    }
   ],
   "source": [
    "import matplotlib.pyplot as plt\n",
    "\n",
    "fig, ax = plt.subplots(1, sharex=True)\n",
    "ax.hist(base.rvs(10000), density=True, histtype='stepfilled', alpha=0.2)\n",
    "plt.show()"
   ]
  },
  {
   "cell_type": "markdown",
   "metadata": {},
   "source": [
    "<h1>Test Input</h1>"
   ]
  },
  {
   "cell_type": "code",
   "execution_count": 7,
   "metadata": {},
   "outputs": [
    {
     "name": "stdout",
     "output_type": "stream",
     "text": [
      "Total Test Mean: 18.90811698963588\n",
      "Total Test STD: 3.870127599112604\n",
      "Total Test Expected Value: 1.543947404546203\n"
     ]
    }
   ],
   "source": [
    "import math\n",
    "\n",
    "total_test_mean = total_mean * DPH_mean * hour_difference\n",
    "print(\"Total Test Mean:\", total_test_mean)\n",
    "total_test_std = math.sqrt(total_variance * DPH_mean * hour_difference)\n",
    "print(\"Total Test STD:\", total_test_std)\n",
    "\n",
    "base = norm(loc=total_test_mean, scale=total_test_std)\n",
    "EV = base.expect(lambda x: abs(x - total_test_mean), lb=0, ub=total_test_mean)\n",
    "print(\"Total Test Expected Value:\", EV)"
   ]
  },
  {
   "cell_type": "code",
   "execution_count": 8,
   "metadata": {},
   "outputs": [
    {
     "data": {
      "image/png": "[encoded data removed]",
      "text/plain": [
       "<Figure size 432x288 with 1 Axes>"
      ]
     },
     "metadata": {
      "needs_background": "light"
     },
     "output_type": "display_data"
    }
   ],
   "source": [
    "fig, ax = plt.subplots(1, sharex=True)\n",
    "ax.hist(base.rvs(1000), density=True, histtype='stepfilled', alpha=0.2)\n",
    "plt.show()"
   ]
  },
  {
   "cell_type": "code",
   "execution_count": 9,
   "metadata": {},
   "outputs": [
    {
     "name": "stdout",
     "output_type": "stream",
     "text": [
      "TEPH Test Mean: 18.825822784810125\n",
      "TEPH Test STD: 4.8765598471583465\n",
      "TEPH Test Expected Value: 1.944336564454884\n"
     ]
    }
   ],
   "source": [
    "TEPH_test_mean = TEPH_mean * hour_difference\n",
    "print(\"TEPH Test Mean:\", TEPH_test_mean)\n",
    "TEPH_test_std = math.sqrt(TEPH_variance * hour_difference)\n",
    "print(\"TEPH Test STD:\", TEPH_test_std)\n",
    "\n",
    "base = norm(loc=TEPH_test_mean, scale=TEPH_test_std)\n",
    "EV = base.expect(lambda x: abs(x - TEPH_test_mean), lb=0, ub=TEPH_test_mean)\n",
    "print(\"TEPH Test Expected Value:\", EV)"
   ]
  },
  {
   "cell_type": "code",
   "execution_count": 10,
   "metadata": {},
   "outputs": [
    {
     "data": {
      "image/png": "[encoded data removed]",
      "text/plain": [
       "<Figure size 432x288 with 1 Axes>"
      ]
     },
     "metadata": {
      "needs_background": "light"
     },
     "output_type": "display_data"
    }
   ],
   "source": [
    "fig, ax = plt.subplots(1, sharex=True)\n",
    "ax.hist(base.rvs(1000), density=True, histtype='stepfilled', alpha=0.2)\n",
    "plt.show()"
   ]
  },
  {
   "cell_type": "markdown",
   "metadata": {},
   "source": [
    "<h1>Minimum Wage</h1>"
   ]
  },
  {
   "cell_type": "code",
   "execution_count": 11,
   "metadata": {},
   "outputs": [
    {
     "name": "stdout",
     "output_type": "stream",
     "text": [
      "Minimum Wage Mean: 12.5\n",
      "Minimum Wage STD: 3.870127599112604\n"
     ]
    },
    {
     "ename": "NameError",
     "evalue": "name 'test_mean' is not defined",
     "output_type": "error",
     "traceback": [
      "\u001b[0;31m---------------------------------------------------------------------------\u001b[0m",
      "\u001b[0;31mNameError\u001b[0m                                 Traceback (most recent call last)",
      "\u001b[0;32m<ipython-input-11-67a6ccd6996f>\u001b[0m in \u001b[0;36m<module>\u001b[0;34m\u001b[0m\n\u001b[1;32m      4\u001b[0m \u001b[0mprint\u001b[0m\u001b[0;34m(\u001b[0m\u001b[0;34m\"Minimum Wage STD:\"\u001b[0m\u001b[0;34m,\u001b[0m \u001b[0mtest_std\u001b[0m\u001b[0;34m)\u001b[0m\u001b[0;34m\u001b[0m\u001b[0;34m\u001b[0m\u001b[0m\n\u001b[1;32m      5\u001b[0m \u001b[0;34m\u001b[0m\u001b[0m\n\u001b[0;32m----> 6\u001b[0;31m \u001b[0mbase\u001b[0m \u001b[0;34m=\u001b[0m \u001b[0mnorm\u001b[0m\u001b[0;34m(\u001b[0m\u001b[0mloc\u001b[0m\u001b[0;34m=\u001b[0m\u001b[0mtest_mean\u001b[0m\u001b[0;34m,\u001b[0m \u001b[0mscale\u001b[0m\u001b[0;34m=\u001b[0m\u001b[0mtest_std\u001b[0m\u001b[0;34m)\u001b[0m\u001b[0;34m\u001b[0m\u001b[0;34m\u001b[0m\u001b[0m\n\u001b[0m\u001b[1;32m      7\u001b[0m \u001b[0mEV\u001b[0m \u001b[0;34m=\u001b[0m \u001b[0mbase\u001b[0m\u001b[0;34m.\u001b[0m\u001b[0mexpect\u001b[0m\u001b[0;34m(\u001b[0m\u001b[0;32mlambda\u001b[0m \u001b[0mx\u001b[0m\u001b[0;34m:\u001b[0m \u001b[0mabs\u001b[0m\u001b[0;34m(\u001b[0m\u001b[0mx\u001b[0m \u001b[0;34m-\u001b[0m \u001b[0mtest_mean\u001b[0m\u001b[0;34m)\u001b[0m\u001b[0;34m,\u001b[0m \u001b[0mlb\u001b[0m\u001b[0;34m=\u001b[0m\u001b[0;36m0\u001b[0m\u001b[0;34m,\u001b[0m \u001b[0mub\u001b[0m\u001b[0;34m=\u001b[0m\u001b[0mminwage_mean\u001b[0m\u001b[0;34m)\u001b[0m\u001b[0;34m\u001b[0m\u001b[0;34m\u001b[0m\u001b[0m\n\u001b[1;32m      8\u001b[0m \u001b[0mprint\u001b[0m\u001b[0;34m(\u001b[0m\u001b[0;34m\"Minimum Wage Expected Value:\"\u001b[0m\u001b[0;34m,\u001b[0m \u001b[0mEV\u001b[0m\u001b[0;34m)\u001b[0m\u001b[0;34m\u001b[0m\u001b[0;34m\u001b[0m\u001b[0m\n",
      "\u001b[0;31mNameError\u001b[0m: name 'test_mean' is not defined"
     ]
    }
   ],
   "source": [
    "minwage_mean = 12.5 * hour_difference\n",
    "print(\"Minimum Wage Mean:\", minwage_mean)\n",
    "test_std = math.sqrt(total_variance * DPH_mean * hour_difference)\n",
    "print(\"Minimum Wage STD:\", test_std)\n",
    "\n",
    "base = norm(loc=test_mean, scale=test_std)\n",
    "EV = base.expect(lambda x: abs(x - test_mean), lb=0, ub=minwage_mean)\n",
    "print(\"Minimum Wage Expected Value:\", EV)"
   ]
  },
  {
   "cell_type": "code",
   "execution_count": null,
   "metadata": {},
   "outputs": [],
   "source": [
    "fig, ax = plt.subplots(1, sharex=True)\n",
    "ax.hist(base.rvs(10000), density=True, histtype='stepfilled', alpha=0.2)\n",
    "plt.show()"
   ]
  },
  {
   "cell_type": "code",
   "execution_count": null,
   "metadata": {},
   "outputs": [],
   "source": []
  },
  {
   "cell_type": "code",
   "execution_count": null,
   "metadata": {},
   "outputs": [],
   "source": []
  }
 ],
 "metadata": {
  "kernelspec": {
   "display_name": "Python 3",
   "language": "python",
   "name": "python3"
  },
  "language_info": {
   "codemirror_mode": {
    "name": "ipython",
    "version": 3
   },
   "file_extension": ".py",
   "mimetype": "text/x-python",
   "name": "python",
   "nbconvert_exporter": "python",
   "pygments_lexer": "ipython3",
   "version": "3.7.6"
  }
 },
 "nbformat": 4,
 "nbformat_minor": 4
}
