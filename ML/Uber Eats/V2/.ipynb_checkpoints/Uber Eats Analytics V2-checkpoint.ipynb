{
 "cells": [
  {
   "cell_type": "markdown",
   "metadata": {},
   "source": [
    "<h1>Prepare Data</h1>"
   ]
  },
  {
   "cell_type": "code",
   "execution_count": 1,
   "metadata": {},
   "outputs": [
    {
     "data": {
      "text/html": [
       "<div>\n",
       "<style scoped>\n",
       "    .dataframe tbody tr th:only-of-type {\n",
       "        vertical-align: middle;\n",
       "    }\n",
       "\n",
       "    .dataframe tbody tr th {\n",
       "        vertical-align: top;\n",
       "    }\n",
       "\n",
       "    .dataframe thead th {\n",
       "        text-align: right;\n",
       "    }\n",
       "</style>\n",
       "<table border=\"1\" class=\"dataframe\">\n",
       "  <thead>\n",
       "    <tr style=\"text-align: right;\">\n",
       "      <th></th>\n",
       "      <th>Location</th>\n",
       "      <th>Datetime_SINE</th>\n",
       "      <th>Datetime_COSINE</th>\n",
       "      <th>DayOfWeek</th>\n",
       "      <th>NPEPH</th>\n",
       "    </tr>\n",
       "  </thead>\n",
       "  <tbody>\n",
       "    <tr>\n",
       "      <th>count</th>\n",
       "      <td>38.0</td>\n",
       "      <td>38.000000</td>\n",
       "      <td>38.000000</td>\n",
       "      <td>38.000000</td>\n",
       "      <td>38.000000</td>\n",
       "    </tr>\n",
       "    <tr>\n",
       "      <th>mean</th>\n",
       "      <td>1.0</td>\n",
       "      <td>-0.151705</td>\n",
       "      <td>0.648453</td>\n",
       "      <td>3.421053</td>\n",
       "      <td>10.571156</td>\n",
       "    </tr>\n",
       "    <tr>\n",
       "      <th>std</th>\n",
       "      <td>0.0</td>\n",
       "      <td>0.656693</td>\n",
       "      <td>0.374551</td>\n",
       "      <td>1.810354</td>\n",
       "      <td>3.859288</td>\n",
       "    </tr>\n",
       "    <tr>\n",
       "      <th>min</th>\n",
       "      <td>1.0</td>\n",
       "      <td>-0.995546</td>\n",
       "      <td>-0.246361</td>\n",
       "      <td>0.000000</td>\n",
       "      <td>3.893750</td>\n",
       "    </tr>\n",
       "    <tr>\n",
       "      <th>25%</th>\n",
       "      <td>1.0</td>\n",
       "      <td>-0.838712</td>\n",
       "      <td>0.500000</td>\n",
       "      <td>2.250000</td>\n",
       "      <td>7.324080</td>\n",
       "    </tr>\n",
       "    <tr>\n",
       "      <th>50%</th>\n",
       "      <td>1.0</td>\n",
       "      <td>-0.287547</td>\n",
       "      <td>0.733858</td>\n",
       "      <td>3.500000</td>\n",
       "      <td>10.824725</td>\n",
       "    </tr>\n",
       "    <tr>\n",
       "      <th>75%</th>\n",
       "      <td>1.0</td>\n",
       "      <td>0.422816</td>\n",
       "      <td>0.945864</td>\n",
       "      <td>5.000000</td>\n",
       "      <td>12.628820</td>\n",
       "    </tr>\n",
       "    <tr>\n",
       "      <th>max</th>\n",
       "      <td>1.0</td>\n",
       "      <td>0.866025</td>\n",
       "      <td>0.988088</td>\n",
       "      <td>6.000000</td>\n",
       "      <td>21.230769</td>\n",
       "    </tr>\n",
       "  </tbody>\n",
       "</table>\n",
       "</div>"
      ],
      "text/plain": [
       "       Location  Datetime_SINE  Datetime_COSINE  DayOfWeek      NPEPH\n",
       "count      38.0      38.000000        38.000000  38.000000  38.000000\n",
       "mean        1.0      -0.151705         0.648453   3.421053  10.571156\n",
       "std         0.0       0.656693         0.374551   1.810354   3.859288\n",
       "min         1.0      -0.995546        -0.246361   0.000000   3.893750\n",
       "25%         1.0      -0.838712         0.500000   2.250000   7.324080\n",
       "50%         1.0      -0.287547         0.733858   3.500000  10.824725\n",
       "75%         1.0       0.422816         0.945864   5.000000  12.628820\n",
       "max         1.0       0.866025         0.988088   6.000000  21.230769"
      ]
     },
     "execution_count": 1,
     "metadata": {},
     "output_type": "execute_result"
    }
   ],
   "source": [
    "import pandas as pd\n",
    "import numpy as np\n",
    "import datetime as dt\n",
    "from sklearn import preprocessing\n",
    "from sklearn.model_selection import cross_val_score\n",
    "\n",
    "SECONDS_IN_YEAR = (dt.datetime(2021, 1, 1) - dt.datetime(2020, 1, 1)).total_seconds()\n",
    "\n",
    "def get_population_density(location):\n",
    "    if location == \"Columbia;MD\":\n",
    "        return 1\n",
    "\n",
    "def get_SINE(date):\n",
    "    seconds = (date - dt.datetime(2020, 1, 1, 0)).total_seconds()\n",
    "    return np.sin(2 * np.pi * seconds / SECONDS_IN_YEAR)\n",
    "\n",
    "def get_COSINE(date):\n",
    "    seconds = (date - dt.datetime(2020, 1, 1, 0)).total_seconds()\n",
    "    return np.cos(2 * np.pi * seconds / SECONDS_IN_YEAR)\n",
    "\n",
    "def get_hour_difference(start_datetime, end_datetime):\n",
    "    return (end_datetime - start_datetime).total_seconds() / 3600\n",
    "\n",
    "# Import file\n",
    "import_file = \"Uber_Eats_Columbia_MD_V2.csv\"\n",
    "columns = [\"Location\", \"Datetime\", \"NPEPH\"]\n",
    "df = pd.read_csv(import_file, names=columns)\n",
    "\n",
    "# Change to numerical data\n",
    "df[\"Location\"] = df[\"Location\"].map(get_population_density)\n",
    "df[\"Datetime\"] = pd.to_datetime(df[\"Datetime\"], format=\"%Y-%m-%d\", errors=\"coerce\")\n",
    "df[\"DayOfWeek\"] = df[\"Datetime\"].dt.dayofweek\n",
    "df[\"Datetime\"] = (df[\"Datetime\"] - dt.datetime(2020, 1, 1)).dt.total_seconds()\n",
    "df[\"Datetime_SINE\"] = np.sin(2 * np.pi * df[\"Datetime\"] / SECONDS_IN_YEAR)\n",
    "df[\"Datetime_COSINE\"] = np.cos(2 * np.pi * df[\"Datetime\"] / SECONDS_IN_YEAR)\n",
    "df = df[[\"Location\", \"Datetime_SINE\", \"Datetime_COSINE\", \"DayOfWeek\", \"NPEPH\"]]\n",
    "\n",
    "# Separate features and classes\n",
    "feature_names = [\"Location\", \"Datetime_SINE\", \"Datetime_COSINE\", \"DayOfWeek\"]\n",
    "all_features = df[feature_names].values\n",
    "all_classes_NPEPH = df[\"NPEPH\"].values\n",
    "\n",
    "# Normalize data\n",
    "scaler = preprocessing.StandardScaler()\n",
    "all_features_scaled = scaler.fit_transform(all_features)\n",
    "\n",
    "# Test inputs\n",
    "location = get_population_density(\"Columbia;MD\")\n",
    "datetime = dt.datetime(2020, 10, 5, 0, 0)\n",
    "datetime_SINE = get_SINE(datetime)\n",
    "datetime_COSINE = get_COSINE(datetime)\n",
    "dayOfWeek = datetime.weekday()\n",
    "\n",
    "df.describe()"
   ]
  },
  {
   "cell_type": "markdown",
   "metadata": {},
   "source": [
    "<h1>Stats</h1>"
   ]
  },
  {
   "cell_type": "code",
   "execution_count": 2,
   "metadata": {},
   "outputs": [
    {
     "name": "stdout",
     "output_type": "stream",
     "text": [
      "NPEPH Mean: 10.571155742184212\n",
      "NPEPH STD: 3.859288479574475\n",
      "NPEPH Variance: 14.894107568576263\n"
     ]
    }
   ],
   "source": [
    "NPEPH_mean = df[\"NPEPH\"].mean()\n",
    "print(\"NPEPH Mean:\", NPEPH_mean)\n",
    "\n",
    "NPEPH_std = df[\"NPEPH\"].std()\n",
    "print(\"NPEPH STD:\", NPEPH_std)\n",
    "\n",
    "NPEPH_variance = NPEPH_std * NPEPH_std\n",
    "print(\"NPEPH Variance:\", NPEPH_variance)"
   ]
  },
  {
   "cell_type": "markdown",
   "metadata": {},
   "source": [
    "<h1>Per One Hour</h1>"
   ]
  },
  {
   "cell_type": "code",
   "execution_count": 3,
   "metadata": {},
   "outputs": [
    {
     "name": "stdout",
     "output_type": "stream",
     "text": [
      "Expected Value: 1.5034775110439367\n"
     ]
    }
   ],
   "source": [
    "from scipy.stats import norm\n",
    "\n",
    "base = norm(loc=NPEPH_mean, scale=NPEPH_std)\n",
    "EV = base.expect(lambda x: abs(x - NPEPH_mean), lb=0, ub=NPEPH_mean)\n",
    "print(\"Expected Value:\", EV)"
   ]
  },
  {
   "cell_type": "code",
   "execution_count": 4,
   "metadata": {},
   "outputs": [
    {
     "data": {
      "image/png": "[encoded data removed]",
      "text/plain": [
       "<Figure size 432x288 with 1 Axes>"
      ]
     },
     "metadata": {
      "needs_background": "light"
     },
     "output_type": "display_data"
    }
   ],
   "source": [
    "import matplotlib.pyplot as plt\n",
    "\n",
    "fig, ax = plt.subplots(1, sharex=True)\n",
    "ax.hist(base.rvs(10000), density=True, histtype='stepfilled', alpha=0.2)\n",
    "plt.show()"
   ]
  },
  {
   "cell_type": "code",
   "execution_count": null,
   "metadata": {},
   "outputs": [],
   "source": []
  }
 ],
 "metadata": {
  "kernelspec": {
   "display_name": "Python 3",
   "language": "python",
   "name": "python3"
  },
  "language_info": {
   "codemirror_mode": {
    "name": "ipython",
    "version": 3
   },
   "file_extension": ".py",
   "mimetype": "text/x-python",
   "name": "python",
   "nbconvert_exporter": "python",
   "pygments_lexer": "ipython3",
   "version": "3.7.6"
  }
 },
 "nbformat": 4,
 "nbformat_minor": 4
}
